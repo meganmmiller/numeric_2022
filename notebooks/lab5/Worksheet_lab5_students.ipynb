{
 "cells": [
  {
   "cell_type": "markdown",
   "id": "75703414",
   "metadata": {},
   "source": [
    "Names:"
   ]
  },
  {
   "cell_type": "code",
   "execution_count": null,
   "id": "ac47936a",
   "metadata": {
    "ExecuteTime": {
     "end_time": "2022-02-14T20:10:57.656791Z",
     "start_time": "2022-02-14T20:10:57.155363Z"
    },
    "code_folding": []
   },
   "outputs": [],
   "source": [
    "# your import statements\n",
    "import context\n",
    "from numlabs.lab5.lab5_funs import Integrator\n",
    "from collections import namedtuple\n",
    "import numpy as np\n",
    "import matplotlib.pyplot as plt\n",
    "import yaml\n",
    "import pandas as pd"
   ]
  },
  {
   "cell_type": "code",
   "execution_count": null,
   "id": "fd72fb96",
   "metadata": {
    "ExecuteTime": {
     "end_time": "2022-02-14T20:10:43.053249Z",
     "start_time": "2022-02-14T20:10:43.044722Z"
    },
    "code_folding": [
     0
    ]
   },
   "outputs": [],
   "source": [
    "# functions for worksheet problems\n",
    "\n",
    "class Integ54(Integrator):\n",
    "    def set_yinit(self):\n",
    "        #\n",
    "        # read in 'albedo_white chi S0 L albedo_black R albedo_ground'\n",
    "        #\n",
    "        uservars = namedtuple('uservars', self.config['uservars'].keys())\n",
    "        self.uservars = uservars(**self.config['uservars'])\n",
    "        #\n",
    "        # read in 'whiteconc blackconc'\n",
    "        #\n",
    "        initvars = namedtuple('initvars', self.config['initvars'].keys())\n",
    "        self.initvars = initvars(**self.config['initvars'])\n",
    "        self.yinit = np.array(\n",
    "            [self.initvars.whiteconc, self.initvars.blackconc])\n",
    "        self.nvars = len(self.yinit)\n",
    "        return None\n",
    "\n",
    "    def __init__(self, coeff_file_name):\n",
    "        super().__init__(coeff_file_name)\n",
    "        self.set_yinit()\n",
    "\n",
    "    def find_temp(self, yvals):\n",
    "        \"\"\"\n",
    "            Calculate the temperatures over the white and black daisies\n",
    "            and the planetary equilibrium temperature given the daisy fractions\n",
    "            \n",
    "            input:  yvals -- array of dimension [2] with the white [0] and black [1]\n",
    "                    daisy fractiion\n",
    "            output:  white temperature (K), black temperature (K), equilibrium temperature (K)\n",
    "        \"\"\"\n",
    "        sigma = 5.67e-8  # Stefan Boltzman constant W/m^2/K^4\n",
    "        user = self.uservars\n",
    "        bare = 1.0 - yvals[0] - yvals[1]\n",
    "        albedo_p = bare * user.albedo_ground + \\\n",
    "            yvals[0] * user.albedo_white + yvals[1] * user.albedo_black\n",
    "        Te_4 = user.S0 / 4.0 * user.L * (1.0 - albedo_p) / sigma\n",
    "        temp_e = Te_4**0.25\n",
    "        eta = user.R * user.L * user.S0 / (4.0 * sigma)\n",
    "        temp_b = (eta * (albedo_p - user.albedo_black) + Te_4)**0.25\n",
    "        temp_w = (eta * (albedo_p - user.albedo_white) + Te_4)**0.25\n",
    "        return (temp_w, temp_b, temp_e)\n",
    "\n",
    "    def derivs5(self, y, t):\n",
    "        \"\"\"y[0]=fraction white daisies\n",
    "           y[1]=fraction black daisies\n",
    "           no feedback between daisies and\n",
    "           albedo_p (set to ground albedo)\n",
    "        \"\"\"\n",
    "        temp_w, temp_b, temp_e = self.find_temp(y)\n",
    "\n",
    "        if (temp_b >= 277.5 and temp_b <= 312.5):\n",
    "            beta_b = 1.0 - 0.003265 * (295.0 - temp_b)**2.0\n",
    "        else:\n",
    "            beta_b = 0.0\n",
    "\n",
    "        if (temp_w >= 277.5 and temp_w <= 312.5):\n",
    "            beta_w = 1.0 - 0.003265 * (295.0 - temp_w)**2.0\n",
    "        else:\n",
    "            beta_w = 0.0\n",
    "        user = self.uservars\n",
    "        bare = 1.0 - y[0] - y[1]\n",
    "        # create a 1 x 2 element vector to hold the derivitive\n",
    "        f = np.empty_like(y)\n",
    "        f[0] = y[0] * (beta_w * bare - user.chi)\n",
    "        f[1] = y[1] * (beta_b * bare - user.chi)\n",
    "        return f"
   ]
  },
  {
   "cell_type": "markdown",
   "id": "6d18f30a",
   "metadata": {},
   "source": [
    "## WorkSheet Instructions ##\n",
    "\n",
    "Before you begin you should have read and worked through Lab 5.\n",
    "\n",
    "I recommend that you do this worksheet in a python notebook and share screen. You will need the  This method does mean one person will do the typing.  When complete, email the notebook (preferably as a pdf) to rwhite@eoas.ubc.ca\n",
    "\n",
    "This question is based on the adaptive timestep in Runge-Kutta section on Lab 5.\n",
    "  "
   ]
  },
  {
   "cell_type": "markdown",
   "id": "aeb91ca7",
   "metadata": {},
   "source": [
    "The Runge-Kutta algorithm with adaptive time steps will, in general, be more efficient and accurate than same algorithm with fixed time steps. In other words, greater accuracy can usually be achieved in fewer time steps. For the given set of Daisyworld parameters and initial conditions in adapt_worksheet.yaml:"
   ]
  },
  {
   "cell_type": "markdown",
   "id": "092bf325",
   "metadata": {},
   "source": [
    "### Question A ###\n",
    "Decrease the error tolerances for the adaptive timestep Runge-Kutta and compare the plots. You will note that as the error tolerances are decreased, the plots approach the one created by the algorithm with fixed time steps. What does this imply?\n"
   ]
  },
  {
   "cell_type": "code",
   "execution_count": null,
   "id": "83b0ba50",
   "metadata": {
    "ExecuteTime": {
     "end_time": "2022-02-14T20:11:11.585601Z",
     "start_time": "2022-02-14T20:11:11.366292Z"
    },
    "code_folding": []
   },
   "outputs": [],
   "source": [
    "# Solve and plot for adaptive timestep\n",
    "theSolver = Integ54('adapt_worksheet.yaml')\n",
    "timeVals, yVals, errorList = theSolver.timeloop5Err()\n",
    "\n",
    "with open('adapt_worksheet.yaml', 'rb') as f:\n",
    "    config = yaml.safe_load(f)\n",
    "    adaptvars_in = namedtuple('adaptvars', config['adaptvars'].keys())\n",
    "    adaptvars = adaptvars_in(**config['adaptvars'])\n",
    "    \n",
    "yvals = pd.DataFrame.from_records(yVals, columns=['white', 'black'])\n",
    "\n",
    "thefig, theAx = plt.subplots(1, 1)\n",
    "\n",
    "points, = theAx.plot(timeVals, yvals['white'], '-b+', label='white daisies')\n",
    "points.set_markersize(12)\n",
    "theLine1, = theAx.plot(timeVals, yvals['black'], '--kx', label='black daisies')\n",
    "theAx.set_title('lab 5 worksheet, tolerance = ' + str(adaptvars.rtol))\n",
    "theAx.set_xlabel('time')\n",
    "theAx.set_ylabel('fractional coverage')\n",
    "out = theAx.legend(loc='best')\n",
    "\n",
    "timeVals,yVals,errorList=theSolver.timeloop5fixed()\n",
    "yvals = pd.DataFrame.from_records(yVals, columns=['white', 'black'])\n",
    "\n",
    "points, = theAx.plot(timeVals, yvals['white'], '-r+', label='white daisies fixed',alpha=0.3)\n",
    "points.set_markersize(12)\n",
    "theLine1, = theAx.plot(timeVals, yvals['black'], '--mx', label='black daisies fixed',alpha=0.3)\n",
    "out = theAx.legend(loc='best')\n"
   ]
  },
  {
   "cell_type": "code",
   "execution_count": null,
   "id": "e66a1927",
   "metadata": {},
   "outputs": [],
   "source": []
  },
  {
   "cell_type": "code",
   "execution_count": null,
   "id": "843a5c18",
   "metadata": {},
   "outputs": [],
   "source": []
  },
  {
   "cell_type": "markdown",
   "id": "be02c550",
   "metadata": {
    "ExecuteTime": {
     "end_time": "2022-02-14T19:30:07.337849Z",
     "start_time": "2022-02-14T19:30:07.332617Z"
    }
   },
   "source": [
    "### Question B ###  \n",
    "Compare the Daisyworld plot to a plot of the stepsizes. Do you see a correlation between stepsize and the shape of the curve?\n"
   ]
  },
  {
   "cell_type": "code",
   "execution_count": null,
   "id": "cb4eea69",
   "metadata": {
    "ExecuteTime": {
     "end_time": "2022-02-14T20:11:22.824880Z",
     "start_time": "2022-02-14T20:11:22.665320Z"
    },
    "code_folding": [
     0
    ]
   },
   "outputs": [],
   "source": [
    "# Solve and plot for adaptive timestep\n",
    "theSolver = Integ54('adapt_worksheet.yaml')\n",
    "timeVals, yVals, errorList = theSolver.timeloop5Err()\n",
    "\n",
    "with open('adapt_worksheet.yaml', 'rb') as f:\n",
    "    config = yaml.safe_load(f)\n",
    "    adaptvars_in = namedtuple('adaptvars', config['adaptvars'].keys())\n",
    "    adaptvars = adaptvars_in(**config['adaptvars'])\n",
    "    \n",
    "yvals = pd.DataFrame.from_records(yVals, columns=['white', 'black'])\n",
    "\n",
    "thefig, theAx = plt.subplots(1, 1)\n",
    "\n",
    "points, = theAx.plot(timeVals, yvals['white'], '-b+', label='white daisies')\n",
    "points.set_markersize(12)\n",
    "theLine1, = theAx.plot(timeVals, yvals['black'], '--kx', label='black daisies')\n",
    "theAx.set_title('lab 5 worksheet, tolerance = ' + str(adaptvars.rtol))\n",
    "theAx.set_xlabel('time')\n",
    "theAx.set_ylabel('fractional coverage')\n",
    "out = theAx.legend(loc='best')\n",
    "plt.show()\n",
    "\n",
    "# Plot stepsize\n",
    "# Add your code here to plot the stepsize as a function of time"
   ]
  },
  {
   "cell_type": "code",
   "execution_count": null,
   "id": "680a050c",
   "metadata": {},
   "outputs": [],
   "source": []
  },
  {
   "cell_type": "code",
   "execution_count": null,
   "id": "2f3ea91e",
   "metadata": {},
   "outputs": [],
   "source": []
  },
  {
   "cell_type": "markdown",
   "id": "3419eace",
   "metadata": {
    "ExecuteTime": {
     "end_time": "2022-02-14T19:30:56.704203Z",
     "start_time": "2022-02-14T19:30:56.674996Z"
    }
   },
   "source": [
    "### Question C ###  \n",
    "Play with the tolerances and see where you would set the tolerance to get (roughly) the same plot as the fixed timestep solution, but in the fewest time steps. Calculate the difference in timesteps between the fixed and adaptive solutions. Work out (by \"hand\") roughly how much computational time the adaptive timestep algorithm has saved with your chosen tolerance if the algorithm uses a. step doubling, and b. an embedded Runge-Kutta. What is the optimal tolerance value for both accuracy and time efficiency?"
   ]
  },
  {
   "cell_type": "code",
   "execution_count": null,
   "id": "e8902302",
   "metadata": {
    "ExecuteTime": {
     "end_time": "2022-02-14T20:15:14.384442Z",
     "start_time": "2022-02-14T20:15:14.164584Z"
    },
    "code_folding": []
   },
   "outputs": [],
   "source": [
    "# Solve and plot for adaptive timestep\n",
    "theSolver = Integ54('adapt_worksheet.yaml')\n",
    "timeVals, yVals, errorList = theSolver.timeloop5Err()\n",
    "print('Adaptive timestep, number of steps: ' + str(len(timeVals)))\n",
    "\n",
    "yvals = pd.DataFrame.from_records(yVals, columns=['white', 'black'])\n",
    "\n",
    "thefig, theAx = plt.subplots(1, 1)\n",
    "\n",
    "points, = theAx.plot(timeVals, yvals['white'], '-b+', label='white daisies')\n",
    "points.set_markersize(12)\n",
    "theLine1, = theAx.plot(timeVals, yvals['black'], '--kx', label='black daisies')\n",
    "\n",
    "# Open yaml file to read the tolerance to put in title\n",
    "with open('adapt_worksheet.yaml', 'rb') as f:\n",
    "    config = yaml.safe_load(f)\n",
    "    adaptvars_in = namedtuple('adaptvars', config['adaptvars'].keys())\n",
    "    adaptvars = adaptvars_in(**config['adaptvars'])\n",
    "    \n",
    "theAx.set_title('lab 5 worksheet, tolerance = ' + str(adaptvars.rtol))\n",
    "theAx.set_xlabel('time')\n",
    "theAx.set_ylabel('fractional coverage')\n",
    "out = theAx.legend(loc='best')\n",
    "\n",
    "timeVals,yVals,errorList=theSolver.timeloop5fixed()\n",
    "print('Fixed timestep, number of steps: ' + str(len(timeVals)))\n",
    "yvals = pd.DataFrame.from_records(yVals, columns=['white', 'black'])\n",
    "\n",
    "points, = theAx.plot(timeVals, yvals['white'], '-r+', label='white daisies fixed',alpha=0.3)\n",
    "points.set_markersize(12)\n",
    "theLine1, = theAx.plot(timeVals, yvals['black'], '--mx', label='black daisies fixed',alpha=0.3)\n",
    "out = theAx.legend(loc='best')"
   ]
  },
  {
   "cell_type": "code",
   "execution_count": null,
   "id": "7864c275",
   "metadata": {},
   "outputs": [],
   "source": []
  },
  {
   "cell_type": "code",
   "execution_count": null,
   "id": "ce71c195",
   "metadata": {},
   "outputs": [],
   "source": []
  }
 ],
 "metadata": {
  "kernelspec": {
   "display_name": "Python 3 (ipykernel)",
   "language": "python",
   "name": "python3"
  },
  "language_info": {
   "codemirror_mode": {
    "name": "ipython",
    "version": 3
   },
   "file_extension": ".py",
   "mimetype": "text/x-python",
   "name": "python",
   "nbconvert_exporter": "python",
   "pygments_lexer": "ipython3",
   "version": "3.10.2"
  },
  "toc": {
   "base_numbering": 1,
   "nav_menu": {},
   "number_sections": true,
   "sideBar": true,
   "skip_h1_title": false,
   "title_cell": "Table of Contents",
   "title_sidebar": "Contents",
   "toc_cell": false,
   "toc_position": {},
   "toc_section_display": true,
   "toc_window_display": true
  }
 },
 "nbformat": 4,
 "nbformat_minor": 5
}
