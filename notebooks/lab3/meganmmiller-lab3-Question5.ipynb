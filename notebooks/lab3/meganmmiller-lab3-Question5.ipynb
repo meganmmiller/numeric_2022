{
 "cells": [
  {
   "cell_type": "markdown",
   "metadata": {},
   "source": [
    "<h1> Lab 3: Question 5 </h1>"
   ]
  },
  {
   "cell_type": "code",
   "execution_count": 3,
   "metadata": {},
   "outputs": [],
   "source": [
    "#Importing required packages\n",
    "import numpy as np"
   ]
  },
  {
   "cell_type": "markdown",
   "metadata": {},
   "source": [
    "<h3>Part c)</h3> Using Python to calculate the solution to the matrix derrived on paper\n"
   ]
  },
  {
   "cell_type": "code",
   "execution_count": 4,
   "metadata": {},
   "outputs": [
    {
     "name": "stdout",
     "output_type": "stream",
     "text": [
      "S= [[1.64077647]\n",
      " [1.65900732]\n",
      " [1.714105  ]\n",
      " [1.8072939 ]\n",
      " [1.94064489]\n",
      " [2.11712132]\n",
      " [1.94064489]\n",
      " [1.8072939 ]\n",
      " [1.714105  ]\n",
      " [1.65900732]\n",
      " [1.64077647]] kg/m\n"
     ]
    }
   ],
   "source": [
    "#Provided values\n",
    "k=0.05 # [m^2s^-1]\n",
    "gamma=1/3600 #[s^-1]\n",
    "N = 10\n",
    "xN=20 #[m]\n",
    "\n",
    "alphax5=0.005 #[kgm^-1s^-1]\n",
    "\n",
    "#Calculating constants\n",
    "d=xN/N #[m];\n",
    "\n",
    "y=-(2+gamma*d**2/k)\n",
    "f5=-alphax5*d**2/k\n",
    "\n",
    "#array derived on paper\n",
    "A = np.array([  [y,2,0,0,0,0,0,0,0,0,0],\n",
    "                [1,y,1,0,0,0,0,0,0,0,0],\n",
    "                [0,1,y,1,0,0,0,0,0,0,0],\n",
    "                [0,0,1,y,1,0,0,0,0,0,0],\n",
    "                [0,0,0,1,y,1,0,0,0,0,0],\n",
    "                [0,0,0,0,1,y,1,0,0,0,0],\n",
    "                [0,0,0,0,0,1,y,1,0,0,0],\n",
    "                [0,0,0,0,0,0,1,y,1,0,0],\n",
    "                [0,0,0,0,0,0,0,1,y,1,0],\n",
    "                [0,0,0,0,0,0,0,0,1,y,1],\n",
    "                [0,0,0,0,0,0,0,0,0,2,y]])\n",
    "\n",
    "F=np.array([[0],[0],[0],[0],[0],[f5],[0],[0],[0],[0],[0]])\n",
    "\n",
    "S=np.linalg.solve(A,F)\n",
    "\n",
    "print(\"S=\",S,\"kg/m\")\n"
   ]
  },
  {
   "cell_type": "markdown",
   "metadata": {},
   "source": [
    "<h3>Part d)</h3> Using numpy to find condition number of matrix A"
   ]
  },
  {
   "cell_type": "code",
   "execution_count": 5,
   "metadata": {},
   "outputs": [
    {
     "name": "stdout",
     "output_type": "stream",
     "text": [
      "Condition Number of Matrix A is  187\n"
     ]
    }
   ],
   "source": [
    "#let K = condition number of Matrix A\n",
    "K=np.linalg.cond(A)\n",
    "print (\"Condition Number of Matrix A is \", '%0.0f'% K)\n"
   ]
  },
  {
   "cell_type": "markdown",
   "metadata": {},
   "source": [
    "<h3> Part e) </h3> what is the condition number if gamma equals zero, and why is there no single solution?\n"
   ]
  },
  {
   "cell_type": "code",
   "execution_count": 6,
   "metadata": {
    "scrolled": true
   },
   "outputs": [
    {
     "name": "stdout",
     "output_type": "stream",
     "text": [
      "Condition Number of Matrix A_e is  24887798979619812\n"
     ]
    }
   ],
   "source": [
    "# the e at the end of the variable names means the variables are asspciated with part e\n",
    "\n",
    "gamma_e=0 #[s^-1]\n",
    "\n",
    "ye=-(2+gamma_e*d**2/k)\n",
    "\n",
    "#Array for Part e with gamma equal 0\n",
    "A_e = np.array([  [ye,2,0,0,0,0,0,0,0,0,0],\n",
    "                [1,ye,1,0,0,0,0,0,0,0,0],\n",
    "                [0,1,ye,1,0,0,0,0,0,0,0],\n",
    "                [0,0,1,ye,1,0,0,0,0,0,0],\n",
    "                [0,0,0,1,ye,1,0,0,0,0,0],\n",
    "                [0,0,0,0,1,ye,1,0,0,0,0],\n",
    "                [0,0,0,0,0,1,ye,1,0,0,0],\n",
    "                [0,0,0,0,0,0,1,ye,1,0,0],\n",
    "                [0,0,0,0,0,0,0,1,ye,1,0],\n",
    "                [0,0,0,0,0,0,0,0,1,ye,1],\n",
    "                [0,0,0,0,0,0,0,0,0,2,ye]])\n",
    "\n",
    "\n",
    "K_e=np.linalg.cond(A_e) #Condition number of the Matrix (A_e)\n",
    "print(\"Condition Number of Matrix A_e is \",'%0.0f'% K_e)\n",
    "\n",
    "#Matrix A_e is a signular matrix and therefore cannot be solvedd\n",
    "#S_e=np.linalg.solve(A_e,F)\n",
    "#print(S_e)"
   ]
  },
  {
   "cell_type": "markdown",
   "metadata": {},
   "source": [
    "If gamma equals zero then no smoke is leaving the system. Alpha, however, does not equal zero, which means smoke is entering the system. Since the system is at steady state smoke in needs to equal smoke out preserve concervation of mass, which is not the case for this question. Therefore the system does not have a solution, this is demonstrated by the matrix A_e being a singular matrix, and having a very high condition number."
   ]
  },
  {
   "cell_type": "markdown",
   "metadata": {},
   "source": [
    "<h3>Part f)</h3>\n",
    "When alpha is equal to zero no smoke enters the hallway, and when gamma is equal to zero no smoke leaves the hallway.  Since there is no change in the quantity of smoke there is no additional diffusion of cigarette smoke in the hallway; and the quantity of smoke already in the hallway remains unchanged from the original concentration, therefore the diffusion equation has no solution."
   ]
  },
  {
   "cell_type": "code",
   "execution_count": null,
   "metadata": {},
   "outputs": [],
   "source": []
  }
 ],
 "metadata": {
  "interpreter": {
   "hash": "669b219c4493f57dd7d8460d7171822988b83396f5d4494fa9f4dc2b1d8ec082"
  },
  "kernelspec": {
   "display_name": "Python 3 (ipykernel)",
   "language": "python",
   "name": "python3"
  },
  "language_info": {
   "codemirror_mode": {
    "name": "ipython",
    "version": 3
   },
   "file_extension": ".py",
   "mimetype": "text/x-python",
   "name": "python",
   "nbconvert_exporter": "python",
   "pygments_lexer": "ipython3",
   "version": "3.10.1"
  }
 },
 "nbformat": 4,
 "nbformat_minor": 2
}
