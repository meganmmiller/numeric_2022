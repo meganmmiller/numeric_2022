{
 "cells": [
  {
   "cell_type": "code",
   "execution_count": 1,
   "id": "c8cb0b59",
   "metadata": {},
   "outputs": [
    {
     "name": "stdout",
     "output_type": "stream",
     "text": [
      "[-3.66666667 -8.66666667  0.91666667  4.91666667 -1.        ]\n"
     ]
    }
   ],
   "source": [
    "#using Numpy to solve matrix for higher order Taylor expansion\n",
    "import numpy as np\n",
    "\n",
    "a = np.array([[1,-1,2,-2,-3],[1/2,1/2,2,2,9/2],[1/6,-1/6,4/3,-4/3,-9/2],[1/24,1/24,2/3,2/3,27/8],[1/120,-1/120,4/15,-4/15,-81/40]])\n",
    "\n",
    "b = np.array([0,1,0,0,1])\n",
    "\n",
    "x=np.linalg.solve(a,b)\n",
    "print(x)"
   ]
  },
  {
   "cell_type": "code",
   "execution_count": 2,
   "id": "2e1bcb86",
   "metadata": {},
   "outputs": [
    {
     "name": "stdout",
     "output_type": "stream",
     "text": [
      "-7.499999999999999\n"
     ]
    }
   ],
   "source": [
    "y=(-11/3-26/3+275/300+1475/300-1)\n",
    "print(y)"
   ]
  },
  {
   "cell_type": "code",
   "execution_count": 3,
   "id": "5c3d5965",
   "metadata": {},
   "outputs": [
    {
     "name": "stdout",
     "output_type": "stream",
     "text": [
      "-8.881784197001252e-16\n"
     ]
    }
   ],
   "source": [
    "dy=-11/3+26/3+2*275/300-2*1475/300-3*-1\n",
    "print(dy)"
   ]
  },
  {
   "cell_type": "code",
   "execution_count": 4,
   "id": "86499ca7",
   "metadata": {},
   "outputs": [
    {
     "name": "stdout",
     "output_type": "stream",
     "text": [
      "1.0000000000000009\n"
     ]
    }
   ],
   "source": [
    "ddy=-11/3*1/2-26/3*1/2+275*2/300+1475/300*2+9*-1/2\n",
    "print(ddy)"
   ]
  },
  {
   "cell_type": "code",
   "execution_count": 5,
   "id": "028c3d72",
   "metadata": {},
   "outputs": [
    {
     "name": "stdout",
     "output_type": "stream",
     "text": [
      "-8.881784197001252e-16\n"
     ]
    }
   ],
   "source": [
    "dddy=-11/3*1/6+26/3*1/6+275/300*4/3-1475/300*4/3+9/2\n",
    "print(dddy)"
   ]
  },
  {
   "cell_type": "code",
   "execution_count": 6,
   "id": "7de60b15",
   "metadata": {},
   "outputs": [
    {
     "name": "stdout",
     "output_type": "stream",
     "text": [
      "4.440892098500626e-16\n"
     ]
    }
   ],
   "source": [
    "ddddy=-11/3*1/24-26/3*1/24+275/300*2/3+1475/300*2/3-81/(4*3*2)\n",
    "print(ddddy)"
   ]
  },
  {
   "cell_type": "code",
   "execution_count": 7,
   "id": "82cf83ca",
   "metadata": {},
   "outputs": [
    {
     "name": "stdout",
     "output_type": "stream",
     "text": [
      "1.0\n"
     ]
    }
   ],
   "source": [
    "dddddy=-11/3*1/120+26/3*1/120+275/300*4/15-1475/300*4/15+243/120\n",
    "print(dddddy)"
   ]
  },
  {
   "cell_type": "code",
   "execution_count": null,
   "id": "fc85acec",
   "metadata": {},
   "outputs": [],
   "source": []
  }
 ],
 "metadata": {
  "kernelspec": {
   "display_name": "Python 3 (ipykernel)",
   "language": "python",
   "name": "python3"
  },
  "language_info": {
   "codemirror_mode": {
    "name": "ipython",
    "version": 3
   },
   "file_extension": ".py",
   "mimetype": "text/x-python",
   "name": "python",
   "nbconvert_exporter": "python",
   "pygments_lexer": "ipython3",
   "version": "3.10.1"
  }
 },
 "nbformat": 4,
 "nbformat_minor": 5
}
