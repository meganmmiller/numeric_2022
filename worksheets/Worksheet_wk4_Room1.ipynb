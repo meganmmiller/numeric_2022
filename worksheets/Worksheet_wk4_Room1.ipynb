{
 "cells": [
  {
   "cell_type": "markdown",
   "id": "75703414",
   "metadata": {},
   "source": [
    "Names:\n",
    "Jo, Kate, Megan"
   ]
  },
  {
   "cell_type": "code",
   "execution_count": 7,
   "id": "ac47936a",
   "metadata": {},
   "outputs": [],
   "source": [
    "# your import statements\n",
    "import numpy as np\n",
    "from matplotlib import pyplot as plt\n",
    "\n",
    "\n"
   ]
  },
  {
   "cell_type": "markdown",
   "id": "6d18f30a",
   "metadata": {},
   "source": [
    "## WorkSheet Instructions ##\n",
    "\n",
    "Before you begin you should have read and worked through Lab 3.\n",
    "\n",
    " I recommend that you do this worksheet in a python\n",
    "  notebook and share screen.  This method does mean one person will do the typing.  When complete, email the notebook (preferably as a pdf)\n",
    "  to sallen@eoas.ubc.ca\n",
    "  \n",
    "*This worksheet is based on Question 2 from the lab*"
   ]
  },
  {
   "cell_type": "markdown",
   "id": "092bf325",
   "metadata": {},
   "source": [
    "### Question A ###\n",
    "\n",
    "Compute the condition number for the matrix that arises from the Heat Equation using Dirchlet BC for various values of the number of segments, N, the rod is divided into. Note that N segments means N+1 grid points. Consider values of N between 5 and 50.  Remember that python starts counting from 0 (not 1).\n",
    "\n",
    "(Hint: This will be much easier if you write a small Python function that outputs the matrix for a given value of N.)"
   ]
  },
  {
   "cell_type": "markdown",
   "id": "0d7650b7",
   "metadata": {},
   "source": [
    "The Matrix is:\n",
    "\n",
    "\n",
    "$$A_1 = {\\left[\n",
    "          \\begin{array}{ccccccccc}\n",
    "            1&  0  & & \\dots  & & & & & 0 \\\\\n",
    "            1& {-2} & {1} & {0} & {\\dots} & && &  \\\\\n",
    "            0& {1} & {-2} &  {1} & {0} & {\\dots} & & &  \\\\\n",
    "            & {0} & {1}  & {-2} & {1} & {0} & {\\dots} & &  \\\\\n",
    "            & & & & & & & & \\\\\n",
    "            \\vdots & & & {\\ddots} & {\\ddots} & {\\ddots} & {\\ddots} & {\\ddots} & \\vdots \\\\\n",
    "            & & & & & & & & \\\\\n",
    "            & & & {\\dots} & {0} & {1} & {-2} & {1} & 0 \\\\\n",
    "            & &  & &{\\dots} & {0} & {1} & {-2} & 1 \\\\\n",
    "            0& & & & & \\dots & & 0 & 1 \\\\\n",
    "          \\end{array}\n",
    "        \\right]}\n",
    "$$    "
   ]
  },
  {
   "cell_type": "code",
   "execution_count": 11,
   "id": "3a9995f2",
   "metadata": {},
   "outputs": [],
   "source": [
    "# function that outputs matrix for a given value of N\n",
    "N=10 #value between 5 and 50\n",
    "\n",
    "condition_n = np.zeros(50)\n",
    "\n",
    "\n",
    "for n in range(5,50):\n",
    "    A1 = np.zeros([n,n]) #makes everything 0\n",
    "    A1[0,0] = 1\n",
    "    for i in range(1,n-1):\n",
    "        A1[i,i-1] = 1\n",
    "        A1[i,i] = -2\n",
    "        A1[i,i+1] = 1\n",
    "    A1[n-1,n-1] = 1\n",
    "    condition_n[n] = np.linalg.cond(A1) #Calculating condition number of all matrix\n",
    "\n"
   ]
  },
  {
   "cell_type": "code",
   "execution_count": 14,
   "id": "013c01a5",
   "metadata": {},
   "outputs": [
    {
     "name": "stdout",
     "output_type": "stream",
     "text": [
      "50\n"
     ]
    }
   ],
   "source": [
    "# cell to calculate the condition number for various N\n",
    "#See above\n",
    "print(len(condition_n))\n"
   ]
  },
  {
   "cell_type": "markdown",
   "id": "e8699890",
   "metadata": {},
   "source": [
    "### Question B ###\n",
    "\n",
    "Plot your results on a log-log plot (that is log condition number versus log N)\n",
    "\n",
    "Also plot N$^2$ on the same plot.\n",
    "\n",
    "How does the conition number of A$_1$ depend on N?"
   ]
  },
  {
   "cell_type": "code",
   "execution_count": 15,
   "id": "4b171eb2",
   "metadata": {},
   "outputs": [
    {
     "name": "stderr",
     "output_type": "stream",
     "text": [
      "C:\\Users\\megan\\AppData\\Local\\Temp/ipykernel_8684/2737152065.py:2: RuntimeWarning: divide by zero encountered in log\n",
      "  xlog = np.log(condition_n) #This is for all the K's\n",
      "C:\\Users\\megan\\AppData\\Local\\Temp/ipykernel_8684/2737152065.py:3: RuntimeWarning: divide by zero encountered in log\n",
      "  ylog= np.log(range(0,50))  #this is for all the N's\n"
     ]
    },
    {
     "data": {
      "image/png": "[encoded data removed]",
      "text/plain": [
       "<Figure size 432x288 with 1 Axes>"
      ]
     },
     "metadata": {
      "needs_background": "light"
     },
     "output_type": "display_data"
    }
   ],
   "source": [
    "# code to do the plot\n",
    "xlog = np.log(condition_n) #This is for all the K's\n",
    "ylog= np.log(range(0,50))  #this is for all the N's\n",
    "\n",
    "plt.scatter(xlog,ylog)\n",
    "plt.show()\n"
   ]
  },
  {
   "cell_type": "markdown",
   "id": "553f7009",
   "metadata": {},
   "source": [
    "### Question C ###\n",
    "\n",
    "Another way to write the system of equations  Another way to write the system of equations is to substitute the\n",
    "boundary conditions into the equations, and thereby reduce size of the\n",
    "problem to one of N-1 equations in N-1 unknowns. The corresponding\n",
    "matrix is simply the N-1 by N-1 submatrix of A$_1$\n",
    "$$A_2 = {\\left[\n",
    "    \\begin{array}{ccccccc}\n",
    "    -2 &  1 &  0 & \\dots & && 0 \\\\\n",
    "    1 & -2 &  1 & 0 & \\dots & & \\\\\n",
    "    0 & 1  & -2 & 1 & 0 & \\dots &  \\\\\n",
    "    & & & & & & \\\\\n",
    "    \\vdots & & \\ddots & \\ddots& \\ddots & \\ddots & \\vdots\\\\\n",
    "    & & & & & & 0 \\\\\n",
    "    & & \\dots & 0 & 1 & -2 & 1 \\\\\n",
    "    0&  & &\\dots & 0 & 1 & -2 \\\\\n",
    "    \\end{array}\n",
    "    \\right]}\n",
    "    $$ \n",
    "    \n",
    "Does this change in the matrix make a significant difference in the\n",
    "    condition number?"
   ]
  },
  {
   "cell_type": "code",
   "execution_count": 17,
   "id": "627726e0",
   "metadata": {},
   "outputs": [],
   "source": [
    "# new function that outputs the matrix A_2 for a given value of N\n",
    "N = A1.shape[0] # lenght of matrix N\n",
    "\n",
    "A_2 = A1[1:N-1,1:N-1 ] # subset to make matrix smaller (slice off the first+last row, first+last column)\n"
   ]
  },
  {
   "cell_type": "code",
   "execution_count": 4,
   "id": "645a1a8a",
   "metadata": {},
   "outputs": [],
   "source": [
    "# cell to caculate the condition number for various N\n",
    "condition_n = np.zeros(50)\n",
    "\n",
    "##Not quite done this one##\n",
    "\n",
    "for n in range(5,50):\n",
    "    A1 = np.zeros([n,n]) #makes everything 0\n",
    "    A1[0,0] = 1\n",
    "    for i in range(1,n-1):\n",
    "        A_2[i,i-1] = 1\n",
    "        A_2[i,i] = -2\n",
    "        A_2[i,i+1] = 1\n",
    "    A_2[n-1,n-1] = 1\n",
    "    condition_n[n] = np.linalg.cond(A_2) #Calculating condition number of all matrix"
   ]
  },
  {
   "cell_type": "code",
   "execution_count": null,
   "id": "e284f140",
   "metadata": {},
   "outputs": [],
   "source": [
    "# log log plot comparing\n",
    "xlog = np.log(condition_n) #This is for all the K's\n",
    "ylog= np.log(range(0,50))  #this is for all the N's\n",
    "\n",
    "plt.scatter(xlog,ylog)\n",
    "plt.show()\n"
   ]
  }
 ],
 "metadata": {
  "kernelspec": {
   "display_name": "Python 3 (ipykernel)",
   "language": "python",
   "name": "python3"
  },
  "language_info": {
   "codemirror_mode": {
    "name": "ipython",
    "version": 3
   },
   "file_extension": ".py",
   "mimetype": "text/x-python",
   "name": "python",
   "nbconvert_exporter": "python",
   "pygments_lexer": "ipython3",
   "version": "3.10.1"
  }
 },
 "nbformat": 4,
 "nbformat_minor": 5
}
