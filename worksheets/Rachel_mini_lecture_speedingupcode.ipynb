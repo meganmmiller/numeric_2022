{
 "cells": [
  {
   "cell_type": "markdown",
   "id": "75703414",
   "metadata": {},
   "source": [
    "Names:"
   ]
  },
  {
   "cell_type": "code",
   "execution_count": 1,
   "id": "6ff13f1a",
   "metadata": {
    "ExecuteTime": {
     "end_time": "2022-02-17T03:45:11.107774Z",
     "start_time": "2022-02-17T03:45:10.949187Z"
    },
    "code_folding": [
     0
    ]
   },
   "outputs": [
    {
     "name": "stdout",
     "output_type": "stream",
     "text": [
      "Created `%t` as an alias for `%timeit`.\n",
      "Created `%%t` as an alias for `%%timeit`.\n"
     ]
    }
   ],
   "source": [
    "# Import statements\n",
    "import numpy as np\n",
    "import timeit\n",
    "# using this to time our code accurately\n",
    "%alias_magic t timeit \n",
    "\n",
    "# Set up a dictionary to deal with units in timeit\n",
    "seconds_units = {}\n",
    "seconds_units['ns'] = 1E-9\n",
    "seconds_units['us'] = 1E-6\n",
    "seconds_units['ms'] = 1E-3"
   ]
  },
  {
   "cell_type": "markdown",
   "id": "0c3d173c",
   "metadata": {},
   "source": [
    "## What makes a difference?"
   ]
  },
  {
   "cell_type": "markdown",
   "id": "30906f8e",
   "metadata": {
    "ExecuteTime": {
     "end_time": "2022-02-11T00:42:11.450674Z",
     "start_time": "2022-02-11T00:42:11.447225Z"
    }
   },
   "source": [
    "Which of these code snippets will be faster? A, B, or they'll be the same?"
   ]
  },
  {
   "cell_type": "markdown",
   "id": "c4c213eb",
   "metadata": {},
   "source": [
    "### List comprehension"
   ]
  },
  {
   "cell_type": "markdown",
   "id": "6c9daee8",
   "metadata": {},
   "source": [
    "A. for loop"
   ]
  },
  {
   "cell_type": "code",
   "execution_count": 2,
   "id": "34c38203",
   "metadata": {
    "ExecuteTime": {
     "end_time": "2022-02-17T03:45:13.098754Z",
     "start_time": "2022-02-17T03:45:11.112804Z"
    }
   },
   "outputs": [
    {
     "name": "stdout",
     "output_type": "stream",
     "text": [
      "283 µs ± 7.06 µs per loop (mean ± std. dev. of 7 runs, 1,000 loops each)\n"
     ]
    }
   ],
   "source": [
    "%%t -n1000\n",
    "L = []\n",
    "for i in range (1, 2000):\n",
    "    if i%3 == 0:\n",
    "        L.append (i**2)"
   ]
  },
  {
   "cell_type": "markdown",
   "id": "0d30d22f",
   "metadata": {},
   "source": [
    "vs B. using list comprehension"
   ]
  },
  {
   "cell_type": "code",
   "execution_count": 3,
   "id": "2f3394bd",
   "metadata": {
    "ExecuteTime": {
     "end_time": "2022-02-17T03:45:14.906351Z",
     "start_time": "2022-02-17T03:45:13.100986Z"
    }
   },
   "outputs": [
    {
     "name": "stdout",
     "output_type": "stream",
     "text": [
      "257 µs ± 12.4 µs per loop (mean ± std. dev. of 7 runs, 1,000 loops each)\n"
     ]
    }
   ],
   "source": [
    "%%t -n1000\n",
    "L = [i**2 for i in range (1, 2000) if i%3 == 0]"
   ]
  },
  {
   "cell_type": "markdown",
   "id": "ff2facf6",
   "metadata": {},
   "source": [
    "### Built in functions (and loops)\n",
    "See, e.g. https://docs.python.org/3.7/library/functions.html\n",
    "\n",
    "Many of Python’s built-in functions are written in C."
   ]
  },
  {
   "cell_type": "markdown",
   "id": "ff5b09a0",
   "metadata": {},
   "source": [
    "A. Built in function"
   ]
  },
  {
   "cell_type": "code",
   "execution_count": 4,
   "id": "5dcdbdee",
   "metadata": {
    "ExecuteTime": {
     "end_time": "2022-02-17T03:45:16.060299Z",
     "start_time": "2022-02-17T03:45:14.908480Z"
    }
   },
   "outputs": [
    {
     "name": "stdout",
     "output_type": "stream",
     "text": [
      "164 µs ± 3.53 µs per loop (mean ± std. dev. of 7 runs, 1,000 loops each)\n"
     ]
    }
   ],
   "source": [
    "%%t -n1000\n",
    "X = sum(range(10000))\n"
   ]
  },
  {
   "cell_type": "markdown",
   "id": "f2913877",
   "metadata": {},
   "source": [
    "vs B. for loop"
   ]
  },
  {
   "cell_type": "code",
   "execution_count": 5,
   "id": "02784060",
   "metadata": {
    "ExecuteTime": {
     "end_time": "2022-02-17T03:45:19.402116Z",
     "start_time": "2022-02-17T03:45:16.061854Z"
    }
   },
   "outputs": [
    {
     "name": "stdout",
     "output_type": "stream",
     "text": [
      "477 µs ± 10.6 µs per loop (mean ± std. dev. of 7 runs, 1,000 loops each)\n"
     ]
    }
   ],
   "source": [
    "%%t -n1000\n",
    "X = 0\n",
    "for i in range(10000):\n",
    "    X += i"
   ]
  },
  {
   "cell_type": "markdown",
   "id": "2b0e52ab",
   "metadata": {},
   "source": [
    "### For loops vs while loops"
   ]
  },
  {
   "cell_type": "markdown",
   "id": "e05ea9c2",
   "metadata": {},
   "source": [
    "A. while loop"
   ]
  },
  {
   "cell_type": "code",
   "execution_count": 6,
   "id": "15df67e8",
   "metadata": {
    "ExecuteTime": {
     "end_time": "2022-02-17T03:45:19.926623Z",
     "start_time": "2022-02-17T03:45:19.403712Z"
    }
   },
   "outputs": [
    {
     "name": "stdout",
     "output_type": "stream",
     "text": [
      "74.2 µs ± 5.66 µs per loop (mean ± std. dev. of 7 runs, 1,000 loops each)\n"
     ]
    }
   ],
   "source": [
    "%%t -n1000\n",
    "result = 0\n",
    "i = 0\n",
    "while i < 1000:\n",
    "    result += i\n",
    "    i +=1"
   ]
  },
  {
   "cell_type": "markdown",
   "id": "fe1c965f",
   "metadata": {},
   "source": [
    "vs B. for loop"
   ]
  },
  {
   "cell_type": "code",
   "execution_count": 7,
   "id": "60db872d",
   "metadata": {
    "ExecuteTime": {
     "end_time": "2022-02-17T03:45:20.254999Z",
     "start_time": "2022-02-17T03:45:19.929883Z"
    }
   },
   "outputs": [
    {
     "name": "stdout",
     "output_type": "stream",
     "text": [
      "45.9 µs ± 2.38 µs per loop (mean ± std. dev. of 7 runs, 1,000 loops each)\n"
     ]
    }
   ],
   "source": [
    "%%t -n1000\n",
    "result = 0\n",
    "for i in range(1000):\n",
    "    result += i"
   ]
  },
  {
   "cell_type": "markdown",
   "id": "34bb88b8",
   "metadata": {},
   "source": [
    "### Importing functions"
   ]
  },
  {
   "cell_type": "code",
   "execution_count": 8,
   "id": "b039403e",
   "metadata": {
    "ExecuteTime": {
     "end_time": "2022-02-17T03:45:20.259148Z",
     "start_time": "2022-02-17T03:45:20.257012Z"
    }
   },
   "outputs": [],
   "source": [
    "import math"
   ]
  },
  {
   "cell_type": "code",
   "execution_count": 9,
   "id": "ae5b2b85",
   "metadata": {
    "ExecuteTime": {
     "end_time": "2022-02-17T03:45:20.265074Z",
     "start_time": "2022-02-17T03:45:20.260806Z"
    }
   },
   "outputs": [
    {
     "name": "stdout",
     "output_type": "stream",
     "text": [
      "87 ns ± 9.73 ns per loop (mean ± std. dev. of 7 runs, 1,000 loops each)\n"
     ]
    }
   ],
   "source": [
    "%%t -n1000\n",
    "X = math.sqrt(10000)"
   ]
  },
  {
   "cell_type": "code",
   "execution_count": 10,
   "id": "f7c892d0",
   "metadata": {
    "ExecuteTime": {
     "end_time": "2022-02-17T03:45:20.269703Z",
     "start_time": "2022-02-17T03:45:20.267205Z"
    }
   },
   "outputs": [],
   "source": [
    "from math import sqrt"
   ]
  },
  {
   "cell_type": "code",
   "execution_count": 11,
   "id": "c14ff6d1",
   "metadata": {
    "ExecuteTime": {
     "end_time": "2022-02-17T03:45:20.275510Z",
     "start_time": "2022-02-17T03:45:20.271228Z"
    }
   },
   "outputs": [
    {
     "name": "stdout",
     "output_type": "stream",
     "text": [
      "80.7 ns ± 20 ns per loop (mean ± std. dev. of 7 runs, 1,000 loops each)\n"
     ]
    }
   ],
   "source": [
    "%%t -n1000\n",
    "\n",
    "X = sqrt(10000)"
   ]
  },
  {
   "cell_type": "markdown",
   "id": "d944acbd",
   "metadata": {},
   "source": [
    "### Looping over Function calls"
   ]
  },
  {
   "cell_type": "markdown",
   "id": "c4a72da9",
   "metadata": {},
   "source": [
    "A. Looping over function calls"
   ]
  },
  {
   "cell_type": "code",
   "execution_count": 12,
   "id": "d8dd714f",
   "metadata": {
    "ExecuteTime": {
     "end_time": "2022-02-17T03:45:22.618639Z",
     "start_time": "2022-02-17T03:45:20.277478Z"
    }
   },
   "outputs": [
    {
     "name": "stdout",
     "output_type": "stream",
     "text": [
      "334 µs ± 7.19 µs per loop (mean ± std. dev. of 7 runs, 1,000 loops each)\n"
     ]
    }
   ],
   "source": [
    "%%t -n1000\n",
    "def calc_square(num):\n",
    "    return num**2\n",
    "    \n",
    "squares = []\n",
    "for i in range(1000):\n",
    "    squares.append(calc_square(i))"
   ]
  },
  {
   "cell_type": "markdown",
   "id": "0ce18aff",
   "metadata": {},
   "source": [
    "vs B. looping within the function"
   ]
  },
  {
   "cell_type": "code",
   "execution_count": 13,
   "id": "5bac0a6f",
   "metadata": {
    "ExecuteTime": {
     "end_time": "2022-02-17T03:45:24.595978Z",
     "start_time": "2022-02-17T03:45:22.620196Z"
    }
   },
   "outputs": [
    {
     "name": "stdout",
     "output_type": "stream",
     "text": [
      "282 µs ± 7.06 µs per loop (mean ± std. dev. of 7 runs, 1,000 loops each)\n"
     ]
    }
   ],
   "source": [
    "%%t -n1000\n",
    "def calc_squares(irange):\n",
    "  squares = []\n",
    "  for i in range(irange):\n",
    "    squares.append(i**2)\n",
    "  return squares\n",
    "\n",
    "squares = calc_squares(1000)"
   ]
  },
  {
   "cell_type": "markdown",
   "id": "42e92d0a",
   "metadata": {},
   "source": [
    "### Numpy"
   ]
  },
  {
   "cell_type": "markdown",
   "id": "1a88c63c",
   "metadata": {},
   "source": [
    "A. using a list"
   ]
  },
  {
   "cell_type": "code",
   "execution_count": 14,
   "id": "5bce94f6",
   "metadata": {
    "ExecuteTime": {
     "end_time": "2022-02-17T03:45:26.482228Z",
     "start_time": "2022-02-17T03:45:24.597672Z"
    }
   },
   "outputs": [
    {
     "name": "stdout",
     "output_type": "stream",
     "text": [
      "269 µs ± 4.91 µs per loop (mean ± std. dev. of 7 runs, 1,000 loops each)\n"
     ]
    }
   ],
   "source": [
    "%%t -n1000\n",
    "python_list = [i for i in range(1000)]\n",
    "\n",
    "square_list = [i**2 for i in python_list]"
   ]
  },
  {
   "cell_type": "markdown",
   "id": "70c3915b",
   "metadata": {},
   "source": [
    "vs B. using numpy array"
   ]
  },
  {
   "cell_type": "code",
   "execution_count": 15,
   "id": "034ce650",
   "metadata": {
    "ExecuteTime": {
     "end_time": "2022-02-17T03:45:27.152852Z",
     "start_time": "2022-02-17T03:45:26.484066Z"
    }
   },
   "outputs": [
    {
     "name": "stdout",
     "output_type": "stream",
     "text": [
      "95.1 µs ± 6.61 µs per loop (mean ± std. dev. of 7 runs, 1,000 loops each)\n"
     ]
    }
   ],
   "source": [
    "%%t -n1000\n",
    "numpy_array = np.array([i for i in range(1000)])\n",
    "\n",
    "square_list = np.square(numpy_array)"
   ]
  },
  {
   "cell_type": "markdown",
   "id": "8795c140",
   "metadata": {},
   "source": [
    "### Numpy II"
   ]
  },
  {
   "cell_type": "markdown",
   "id": "fd384ac9",
   "metadata": {},
   "source": [
    "A. python built in function"
   ]
  },
  {
   "cell_type": "code",
   "execution_count": 16,
   "id": "5c46617e",
   "metadata": {
    "ExecuteTime": {
     "end_time": "2022-02-17T03:45:28.304992Z",
     "start_time": "2022-02-17T03:45:27.154519Z"
    }
   },
   "outputs": [
    {
     "name": "stdout",
     "output_type": "stream",
     "text": [
      "164 µs ± 1.4 µs per loop (mean ± std. dev. of 7 runs, 1,000 loops each)\n"
     ]
    }
   ],
   "source": [
    "%%t -n1000\n",
    "X1 = sum(range(10000))\n"
   ]
  },
  {
   "cell_type": "markdown",
   "id": "251ccb75",
   "metadata": {},
   "source": [
    "vs B. numpy function"
   ]
  },
  {
   "cell_type": "code",
   "execution_count": 17,
   "id": "18afe316",
   "metadata": {
    "ExecuteTime": {
     "end_time": "2022-02-17T03:45:28.417956Z",
     "start_time": "2022-02-17T03:45:28.306697Z"
    }
   },
   "outputs": [
    {
     "name": "stdout",
     "output_type": "stream",
     "text": [
      "15.4 µs ± 1.48 µs per loop (mean ± std. dev. of 7 runs, 1,000 loops each)\n"
     ]
    }
   ],
   "source": [
    "%%t -n1000\n",
    "X2 = np.sum(np.arange(0,10000))"
   ]
  },
  {
   "cell_type": "markdown",
   "id": "189a571b",
   "metadata": {},
   "source": [
    "What if we used some numpy (np.sum) combined with non-numpy (range)?"
   ]
  },
  {
   "cell_type": "code",
   "execution_count": 18,
   "id": "5fff9d04",
   "metadata": {
    "ExecuteTime": {
     "end_time": "2022-02-17T03:45:33.833590Z",
     "start_time": "2022-02-17T03:45:28.419535Z"
    }
   },
   "outputs": [
    {
     "name": "stdout",
     "output_type": "stream",
     "text": [
      "773 µs ± 17.6 µs per loop (mean ± std. dev. of 7 runs, 1,000 loops each)\n"
     ]
    }
   ],
   "source": [
    "%%t -n1000\n",
    "X4 = np.sum(np.array(range(10000)))"
   ]
  },
  {
   "cell_type": "code",
   "execution_count": 19,
   "id": "2222a33a",
   "metadata": {
    "ExecuteTime": {
     "end_time": "2022-02-17T03:45:33.843674Z",
     "start_time": "2022-02-17T03:45:33.838346Z"
    }
   },
   "outputs": [
    {
     "name": "stdout",
     "output_type": "stream",
     "text": [
      "49995000 49995000 49995000\n"
     ]
    }
   ],
   "source": [
    "# Check they all give the same result!\n",
    "X1 = sum(range(10000))\n",
    "X2 = np.sum(np.arange(0,10000))\n",
    "X4 = np.sum(np.array(range(10000)))\n",
    "print(X1,X2,X4)"
   ]
  },
  {
   "cell_type": "markdown",
   "id": "bc0cb009",
   "metadata": {},
   "source": [
    "### Numpy array arthimetic"
   ]
  },
  {
   "cell_type": "code",
   "execution_count": 20,
   "id": "f1aa6917",
   "metadata": {
    "ExecuteTime": {
     "end_time": "2022-02-17T03:45:41.585210Z",
     "start_time": "2022-02-17T03:45:33.845842Z"
    }
   },
   "outputs": [
    {
     "name": "stdout",
     "output_type": "stream",
     "text": [
      "1.1 ms ± 58.9 µs per loop (mean ± std. dev. of 7 runs, 1,000 loops each)\n"
     ]
    }
   ],
   "source": [
    "%%t -n1000\n",
    "X1 = np.array([np.arange(0,1000),np.arange(-1000,0)])\n",
    "X2 = np.array([np.arange(0,1000)**2,np.arange(-1000,0)**2])\n",
    "X3 = np.zeros(X1.shape)\n",
    "# calculate X1 + X2\n",
    "for ii in range(0,len(X1[:,0])):\n",
    "    for jj in range(0,len(X1[0,:])):\n",
    "        X3[ii,jj] = X1[ii,jj] * X2[ii,jj]"
   ]
  },
  {
   "cell_type": "code",
   "execution_count": 21,
   "id": "be80fe3d",
   "metadata": {
    "ExecuteTime": {
     "end_time": "2022-02-17T03:45:41.687307Z",
     "start_time": "2022-02-17T03:45:41.586879Z"
    }
   },
   "outputs": [
    {
     "name": "stdout",
     "output_type": "stream",
     "text": [
      "13.9 µs ± 1.44 µs per loop (mean ± std. dev. of 7 runs, 1,000 loops each)\n"
     ]
    }
   ],
   "source": [
    "%%t -n1000\n",
    "X1 = np.array([np.arange(0,1000),np.arange(-1000,0)])\n",
    "X2 = np.array([np.arange(0,1000)**2,np.arange(-1000,0)**2])\n",
    "# calculate X1 + X2\n",
    "X3_2 = np.multiply(X1,X2)"
   ]
  },
  {
   "cell_type": "code",
   "execution_count": 22,
   "id": "6de890b6",
   "metadata": {
    "ExecuteTime": {
     "end_time": "2022-02-17T03:45:41.695688Z",
     "start_time": "2022-02-17T03:45:41.688972Z"
    }
   },
   "outputs": [
    {
     "name": "stdout",
     "output_type": "stream",
     "text": [
      "0.0\n",
      "0.0\n"
     ]
    }
   ],
   "source": [
    "# Check they gave the same result\n",
    "X1 = np.array([np.arange(0,1000),np.arange(-1000,0)])\n",
    "X2 = np.array([np.arange(0,1000)**2,np.arange(-1000,0)**2])\n",
    "\n",
    "X3 = np.zeros(X1.shape)\n",
    "# calculate X1 + X2\n",
    "for ii in range(0,len(X1[:,0])):\n",
    "    for jj in range(0,len(X1[0,:])):\n",
    "        X3[ii,jj] = X1[ii,jj] * X2[ii,jj]\n",
    "        \n",
    "# calculate X1 + X2\n",
    "X3_2 = np.multiply(X1,X2)\n",
    "\n",
    "print(np.amax(X3-X3_2))\n",
    "print(np.sum(X3-X3_2))"
   ]
  },
  {
   "cell_type": "markdown",
   "id": "aace331b",
   "metadata": {},
   "source": [
    "## Some inefficient code"
   ]
  },
  {
   "cell_type": "markdown",
   "id": "3e14f9f6",
   "metadata": {},
   "source": [
    "Some websites that might help: \n",
    "\n",
    "    https://junye0798.com/post/ten-tricks-to-spedd-up-your-python-codes/\n",
    "    https://towardsdatascience.com/10-ways-to-speed-up-your-python-code-e3d57630b710\n",
    "    \n",
    "    "
   ]
  },
  {
   "cell_type": "markdown",
   "id": "e17f1f7e",
   "metadata": {},
   "source": [
    "We'll use a really simple example for this.\n",
    "Imagine that we want to calculate X4 = k_1 * X1 + k_2 * X2 + k_3 * X3 + X2*X3 where X1, X2, and X3 are arrays, and k1, k2 and k3 are constants, and we have three different sets of constants (k1,k2,k3).\n",
    "Your task is to speed this up as much as possible - because some groups computers may be faster than others, we'll compare the speed prior to speed up with that after speed up!\n",
    "You will be disqualified if your result is not the same numbers as the original (it does not have to be in the same format) - you should check this"
   ]
  },
  {
   "cell_type": "code",
   "execution_count": 23,
   "id": "95701726",
   "metadata": {
    "ExecuteTime": {
     "end_time": "2022-02-17T03:45:50.785693Z",
     "start_time": "2022-02-17T03:45:41.697273Z"
    },
    "code_folding": [
     0
    ]
   },
   "outputs": [],
   "source": [
    "%%capture result_pre\n",
    "%%timeit -n200\n",
    "# these 2 magic cells need to be in this order, at the top of the cell. \n",
    "# They run the code below 100 times, time this, and save the output of this time test into result_pre\n",
    "\n",
    "# X1 is all numbers 0 to 1000 in row 1, and all numbers 2000 to 3000 in row 2\n",
    "X1 = [range(0,1000),range(2000,3000)]\n",
    "\n",
    "# X2 is all numbers squared from 1000 to 2000 in row 1, and all numbers squared from 4000 to 5000 in row 2\n",
    "def calc_square(num):\n",
    "    return num**2\n",
    "    \n",
    "squares = []\n",
    "for i in range(1000,2000):\n",
    "    squares.append(calc_square(i))\n",
    "squares2 = []\n",
    "for i in range(4000,5000):\n",
    "    squares2.append(calc_square(i)) \n",
    "X2 = [squares,squares2]\n",
    "\n",
    "# X3 is all integers cubed from 0 to 1000 in row 1 and all integers cubed from -1000 to 0 in row 2\n",
    "def calc_cube(num):\n",
    "    return num**3\n",
    "    \n",
    "cubes = []\n",
    "for i in range(0,1000):\n",
    "    cubes.append(calc_cube(i))\n",
    "cubes2 = []\n",
    "for i in range(-1000,0):\n",
    "    cubes2.append(calc_cube(i)) \n",
    "X3 = [cubes,cubes2]\n",
    "\n",
    "ks = dict()\n",
    "ks['k1'] = (2.5,2.5,2.5)\n",
    "ks['k2'] = (2.3,2.4,2.5)\n",
    "ks['k3'] = (1,4,9)\n",
    "\n",
    "def multiply_values(k,X):\n",
    "    kX = k * X\n",
    "    return(kX)\n",
    "\n",
    "X4_pre = {}\n",
    "# calculate X1 + X2\n",
    "for testcase in range(0,3):\n",
    "    X4_pre[testcase] = []\n",
    "    for ii in range(0,len(X1)):\n",
    "        newvalues = []\n",
    "        for jj in range(0,len(X1[0])):\n",
    "            k1X1 = multiply_values(ks['k1'][testcase],X1[ii][jj])\n",
    "            k2X2 = multiply_values(ks['k2'][testcase],X2[ii][jj])\n",
    "            k3X3 = multiply_values(ks['k3'][testcase],X3[ii][jj])\n",
    "            \n",
    "            X2X3 = multiply_values(X2[ii][jj],X3[ii][jj])\n",
    "            newvalues.append(k1X1 + k2X2 + k3X3 + X2X3)\n",
    "            \n",
    "        X4_pre[testcase].append(newvalues)\n"
   ]
  },
  {
   "cell_type": "code",
   "execution_count": 24,
   "id": "3b3cd370",
   "metadata": {
    "ExecuteTime": {
     "end_time": "2022-02-17T03:45:50.792385Z",
     "start_time": "2022-02-17T03:45:50.787860Z"
    }
   },
   "outputs": [
    {
     "name": "stdout",
     "output_type": "stream",
     "text": [
      "6.48 ms +- 85 us per loop (mean +- std. dev. of 7 runs, 200 loops each)\n",
      "\n"
     ]
    }
   ],
   "source": [
    "print(result_pre)"
   ]
  },
  {
   "cell_type": "code",
   "execution_count": 25,
   "id": "f8625d7a",
   "metadata": {
    "ExecuteTime": {
     "end_time": "2022-02-17T03:45:50.800243Z",
     "start_time": "2022-02-17T03:45:50.795647Z"
    },
    "code_folding": [
     0
    ]
   },
   "outputs": [
    {
     "name": "stdout",
     "output_type": "stream",
     "text": [
      "6.48 ms\n",
      "0.0064800s\n"
     ]
    }
   ],
   "source": [
    "# print time taken pre speed-up from the values saved by the \"magic\" code in previous cell\n",
    "time_pre = float(str(result_pre).split()[0])\n",
    "units_pre = (str(result_pre).split()[1])\n",
    "\n",
    "print(time_pre, units_pre)\n",
    "# convert units to numerical value\n",
    "time_pre_seconds = time_pre*seconds_units[units_pre]\n",
    "print(\"{:08.7f}\".format(time_pre_seconds) + 's')"
   ]
  },
  {
   "cell_type": "markdown",
   "id": "72110c3f",
   "metadata": {},
   "source": [
    "### Rachel's sped up code"
   ]
  },
  {
   "cell_type": "code",
   "execution_count": 26,
   "id": "07fd7f13",
   "metadata": {
    "ExecuteTime": {
     "end_time": "2022-02-17T03:45:50.969528Z",
     "start_time": "2022-02-17T03:45:50.801926Z"
    },
    "code_folding": [
     0
    ]
   },
   "outputs": [],
   "source": [
    "%%capture result_post\n",
    "%%timeit -n200\n",
    "\n",
    "# X1 is all integers 0 to 1000 in row 1, and all integers 2000 to 3000 in row 2\n",
    "X1 = np.array([np.arange(0,1000),np.arange(2000,3000)])\n",
    "# X2 is all integers squared from 1000 to 2000 in row 1, and all integers squared from 4000 to 5000 in row 2\n",
    "X2 = np.array([np.arange(1000,2000)**2,np.arange(4000,5000)**2])\n",
    "# X3 is all integers cubed from 0 to 1000 in row 1 and all integers cubed from -1000 to 0 in row 2\n",
    "X3 = np.array([np.arange(0,1000)**3,np.arange(-1000,0)**3])\n",
    "\n",
    "ks = np.array([[2.5,2.5,2.5],[2.3,2.4,2.5],[1,4,9]])\n",
    "\n",
    "X4_post = np.ndarray([3,X3.shape[0],X3.shape[1]])\n",
    "\n",
    "for testcase in np.arange(0,3):\n",
    "    X4_post[testcase,:,:] = ks[0,testcase]*X1 + ks[1,testcase]*X2 + ks[2,testcase]*X3 + np.multiply(X2,X3)\n"
   ]
  },
  {
   "cell_type": "code",
   "execution_count": 27,
   "id": "c85ebfb1",
   "metadata": {
    "ExecuteTime": {
     "end_time": "2022-02-17T03:45:50.973851Z",
     "start_time": "2022-02-17T03:45:50.971189Z"
    }
   },
   "outputs": [
    {
     "name": "stdout",
     "output_type": "stream",
     "text": [
      "115 us +- 19.4 us per loop (mean +- std. dev. of 7 runs, 200 loops each)\n",
      "\n"
     ]
    }
   ],
   "source": [
    "print(result_post)"
   ]
  },
  {
   "cell_type": "code",
   "execution_count": 28,
   "id": "a554a3a8",
   "metadata": {
    "ExecuteTime": {
     "end_time": "2022-02-17T03:45:50.979212Z",
     "start_time": "2022-02-17T03:45:50.975580Z"
    },
    "code_folding": [
     0
    ]
   },
   "outputs": [
    {
     "name": "stdout",
     "output_type": "stream",
     "text": [
      "speedup factor = 56.3\n"
     ]
    }
   ],
   "source": [
    "# print time taken pre speed-up from the values saved by the \"magic\" code in previous cell\n",
    "time_post = float(str(result_post).split()[0])\n",
    "units_post = (str(result_post).split()[1])\n",
    "\n",
    "# convert units to numerical value and calculate speedup factor\n",
    "time_post_seconds = time_post*seconds_units[units_post]\n",
    "speedup = time_pre_seconds/time_post_seconds\n",
    "print(\"speedup factor = \" + \"{:04.1f}\".format(speedup))"
   ]
  },
  {
   "cell_type": "code",
   "execution_count": null,
   "id": "c4f33b42",
   "metadata": {},
   "outputs": [],
   "source": []
  },
  {
   "cell_type": "code",
   "execution_count": 29,
   "id": "a2313cdd",
   "metadata": {
    "ExecuteTime": {
     "end_time": "2022-02-17T03:45:51.003936Z",
     "start_time": "2022-02-17T03:45:50.981000Z"
    },
    "code_folding": [
     0
    ]
   },
   "outputs": [
    {
     "name": "stdout",
     "output_type": "stream",
     "text": [
      "0.0\n",
      "0.0\n",
      "0.0\n",
      "0.0\n",
      "0.0\n",
      "0.0\n"
     ]
    }
   ],
   "source": [
    "### Compare solutions to check the new solution is correct\n",
    "# X1 is all numbers 0 to 1000 in row 1, and all numbers 2000 to 3000 in row 2\n",
    "X1 = [range(0,1000),range(2000,3000)]\n",
    "\n",
    "# X2 is all numbers squared from 1000 to 2000 in row 1, and all numbers squared from 4000 to 5000 in row 2\n",
    "def calc_square(num):\n",
    "    return num**2\n",
    "    \n",
    "squares = []\n",
    "for i in range(1000,2000):\n",
    "    squares.append(calc_square(i))\n",
    "squares2 = []\n",
    "for i in range(4000,5000):\n",
    "    squares2.append(calc_square(i)) \n",
    "X2 = [squares,squares2]\n",
    "\n",
    "# X3 is all integers cubed from 0 to 1000 in row 1 and all integers cubed from -1000 to 0 in row 2\n",
    "def calc_cube(num):\n",
    "    return num**3\n",
    "    \n",
    "cubes = []\n",
    "for i in range(0,1000):\n",
    "    cubes.append(calc_cube(i))\n",
    "cubes2 = []\n",
    "for i in range(-1000,0):\n",
    "    cubes2.append(calc_cube(i)) \n",
    "X3 = [cubes,cubes2]\n",
    "\n",
    "ks = dict()\n",
    "ks['k1'] = (2.5,2.5,2.5)\n",
    "ks['k2'] = (2.3,2.4,2.5)\n",
    "ks['k3'] = (1,4,9)\n",
    "\n",
    "def multiply_values(k,X):\n",
    "    kX = k * X\n",
    "    return(kX)\n",
    "\n",
    "X4_pre = {}\n",
    "# calculate X1 + X2\n",
    "for testcase in range(0,3):\n",
    "    X4_pre[testcase] = []\n",
    "    for ii in range(0,len(X1)):\n",
    "        newvalues = []\n",
    "        for jj in range(0,len(X1[0])):\n",
    "            k1X1 = multiply_values(ks['k1'][testcase],X1[ii][jj])\n",
    "            k2X2 = multiply_values(ks['k2'][testcase],X2[ii][jj])\n",
    "            k3X3 = multiply_values(ks['k3'][testcase],X3[ii][jj])\n",
    "            \n",
    "            X2X3 = multiply_values(X2[ii][jj],X3[ii][jj])\n",
    "            newvalues.append(k1X1 + k2X2 + k3X3 + X2X3)\n",
    "            \n",
    "        X4_pre[testcase].append(newvalues)\n",
    "\n",
    "        \n",
    "# X1 is all integers 0 to 1000 in row 1, and all integers 2000 to 3000 in row 2\n",
    "X1 = np.array([np.arange(0,1000),np.arange(2000,3000)])\n",
    "# X2 is all integers squared from 1000 to 2000 in row 1, and all integers squared from 4000 to 5000 in row 2\n",
    "X2 = np.array([np.arange(1000,2000)**2,np.arange(4000,5000)**2])\n",
    "# X3 is all integers cubed from 0 to 1000 in row 1 and all integers cubed from -1000 to 0 in row 2\n",
    "X3 = np.array([np.arange(0,1000)**3,np.arange(-1000,0)**3])\n",
    "\n",
    "ks = np.array([[2.5,2.5,2.5],[2.3,2.4,2.5],[1,4,9]])\n",
    "\n",
    "X4_post = np.ndarray([3,X3.shape[0],X3.shape[1]])\n",
    "\n",
    "for testcase in np.arange(0,3):\n",
    "    X4_post[testcase,:,:] = ks[0,testcase]*X1 + ks[1,testcase]*X2 + ks[2,testcase]*X3 + np.multiply(X2,X3)\n",
    "\n",
    "    \n",
    "for row in np.arange(0,3):\n",
    "    X4_pre_array = np.array(X4_pre[row])\n",
    "    print(np.amax(X4_pre_array - X4_post[row]))\n",
    "    print(np.sum(X4_pre_array - X4_post[row]))"
   ]
  }
 ],
 "metadata": {
  "kernelspec": {
   "display_name": "Python 3 (ipykernel)",
   "language": "python",
   "name": "python3"
  },
  "language_info": {
   "codemirror_mode": {
    "name": "ipython",
    "version": 3
   },
   "file_extension": ".py",
   "mimetype": "text/x-python",
   "name": "python",
   "nbconvert_exporter": "python",
   "pygments_lexer": "ipython3",
   "version": "3.10.2"
  },
  "toc": {
   "base_numbering": 1,
   "nav_menu": {},
   "number_sections": true,
   "sideBar": true,
   "skip_h1_title": false,
   "title_cell": "Table of Contents",
   "title_sidebar": "Contents",
   "toc_cell": false,
   "toc_position": {
    "height": "calc(100% - 180px)",
    "left": "10px",
    "top": "150px",
    "width": "165px"
   },
   "toc_section_display": true,
   "toc_window_display": true
  }
 },
 "nbformat": 4,
 "nbformat_minor": 5
}
